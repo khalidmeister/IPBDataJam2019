{
  "nbformat": 4,
  "nbformat_minor": 0,
  "metadata": {
    "colab": {
      "name": "Text Mining dan Eksplorasi data teks PKM 2014 - 2018",
      "version": "0.3.2",
      "provenance": [],
      "collapsed_sections": [],
      "include_colab_link": true
    },
    "kernelspec": {
      "name": "python3",
      "display_name": "Python 3"
    }
  },
  "cells": [
    {
      "cell_type": "markdown",
      "metadata": {
        "id": "view-in-github",
        "colab_type": "text"
      },
      "source": [
        "<a href=\"https://colab.research.google.com/github/khalidmeister/IPBDataJam2019/blob/master/Text_Mining_dan_Eksplorasi_data_teks_PKM_2014_2018.ipynb\" target=\"_parent\"><img src=\"https://colab.research.google.com/assets/colab-badge.svg\" alt=\"Open In Colab\"/></a>"
      ]
    },
    {
      "metadata": {
        "id": "UnrZPmwhbLXB",
        "colab_type": "text"
      },
      "cell_type": "markdown",
      "source": [
        "# Informasi mengenai PKM\n",
        "Program Kreativitas Mahasiswa (PKM) adalah suatu wadah yang dibentuk oleh **Direktorat Jenderal Pembelajaran dan Kemahasiswaan Kementerian Riset, Teknologi, dan Pendidikan Tinggi Republik Indonesia** dalam memfasilitasi potensi yang dimiliki mahasiswa Indonesia untuk mengkaji, mengembangkan, dan menerapkan ilmu dan teknologi yang telah dipelajarinya di perkuliahan kepada masyarakat luas. Program ini merupakan penerus dari Program Karya Alternatif Mahasiswa yang dibentuk pada tahun 1997, yang lalu berganti menjadi Program Kreativitas Mahasiswa tahun 2001 demi memperluas cakupan dan mengurangi batasan bagi mahasiswa dalam berkreasi.\n",
        "\n",
        "PKM sendiri memiliki beberapa cabang, yakni:"
      ]
    },
    {
      "metadata": {
        "id": "S1XdsSty-259",
        "colab_type": "code",
        "colab": {}
      },
      "cell_type": "code",
      "source": [
        "import pandas as pd\n",
        "import matplotlib.pyplot as plt\n",
        "import numpy as np\n",
        "import re\n",
        "import string"
      ],
      "execution_count": 0,
      "outputs": []
    },
    {
      "metadata": {
        "id": "xDwNsEonDtlj",
        "colab_type": "code",
        "outputId": "c3b5da1a-e6cf-414d-8f5d-6ce41dc33b64",
        "colab": {
          "base_uri": "https://localhost:8080/",
          "height": 108
        }
      },
      "cell_type": "code",
      "source": [
        "!pip install sastrawi"
      ],
      "execution_count": 0,
      "outputs": [
        {
          "output_type": "stream",
          "text": [
            "Collecting sastrawi\n",
            "\u001b[?25l  Downloading https://files.pythonhosted.org/packages/6f/4b/bab676953da3103003730b8fcdfadbdd20f333d4add10af949dd5c51e6ed/Sastrawi-1.0.1-py2.py3-none-any.whl (209kB)\n",
            "\u001b[K    100% |████████████████████████████████| 215kB 24.6MB/s \n",
            "\u001b[?25hInstalling collected packages: sastrawi\n",
            "Successfully installed sastrawi-1.0.1\n"
          ],
          "name": "stdout"
        }
      ]
    },
    {
      "metadata": {
        "id": "D3CqTmzJDtkq",
        "colab_type": "code",
        "outputId": "7ace4cf0-9fd3-409d-bd60-2dddcf62fcae",
        "colab": {
          "base_uri": "https://localhost:8080/",
          "height": 126
        }
      },
      "cell_type": "code",
      "source": [
        "!git clone https://github.com/khalidmeister/IPBDataJam2019.git"
      ],
      "execution_count": 0,
      "outputs": [
        {
          "output_type": "stream",
          "text": [
            "Cloning into 'IPBDataJam2019'...\n",
            "remote: Enumerating objects: 7, done.\u001b[K\n",
            "remote: Counting objects: 100% (7/7), done.\u001b[K\n",
            "remote: Compressing objects: 100% (5/5), done.\u001b[K\n",
            "remote: Total 7 (delta 0), reused 4 (delta 0), pack-reused 0\u001b[K\n",
            "Unpacking objects: 100% (7/7), done.\n"
          ],
          "name": "stdout"
        }
      ]
    },
    {
      "metadata": {
        "id": "Sax4nfKIFBdM",
        "colab_type": "code",
        "outputId": "0ed390ab-ba7e-421f-d612-4fbeb332ff5a",
        "colab": {
          "base_uri": "https://localhost:8080/",
          "height": 35
        }
      },
      "cell_type": "code",
      "source": [
        "! ls"
      ],
      "execution_count": 127,
      "outputs": [
        {
          "output_type": "stream",
          "text": [
            "IPBDataJam2019\tPTN.png  sample_data\n"
          ],
          "name": "stdout"
        }
      ]
    },
    {
      "metadata": {
        "id": "1SUq0xvKFnEw",
        "colab_type": "code",
        "outputId": "d7982b8f-dc61-4cb9-a6cb-7d0aa656f9f1",
        "colab": {
          "base_uri": "https://localhost:8080/",
          "height": 293
        }
      },
      "cell_type": "code",
      "source": [
        "data = pd.ExcelFile('IPBDataJam2019/PESERTA_PIMNAS.xlsx')\n",
        "df = data.parse(0)\n",
        "df.head()"
      ],
      "execution_count": 131,
      "outputs": [
        {
          "output_type": "execute_result",
          "data": {
            "text/html": [
              "<div>\n",
              "<style scoped>\n",
              "    .dataframe tbody tr th:only-of-type {\n",
              "        vertical-align: middle;\n",
              "    }\n",
              "\n",
              "    .dataframe tbody tr th {\n",
              "        vertical-align: top;\n",
              "    }\n",
              "\n",
              "    .dataframe thead th {\n",
              "        text-align: right;\n",
              "    }\n",
              "</style>\n",
              "<table border=\"1\" class=\"dataframe\">\n",
              "  <thead>\n",
              "    <tr style=\"text-align: right;\">\n",
              "      <th></th>\n",
              "      <th>No</th>\n",
              "      <th>Tahun</th>\n",
              "      <th>NIM</th>\n",
              "      <th>Ketua Pelaksana</th>\n",
              "      <th>SKIM</th>\n",
              "      <th>Perguruan Tinggi</th>\n",
              "      <th>Judul Kegiatan</th>\n",
              "    </tr>\n",
              "  </thead>\n",
              "  <tbody>\n",
              "    <tr>\n",
              "      <th>0</th>\n",
              "      <td>1</td>\n",
              "      <td>2014</td>\n",
              "      <td>NaN</td>\n",
              "      <td>Rio Sena Eka Nurshidiq</td>\n",
              "      <td>PKM-GT</td>\n",
              "      <td>Institut Pertanian Bogor</td>\n",
              "      <td>Tata Perdagangan Perikanan Indonesia Melalui I...</td>\n",
              "    </tr>\n",
              "    <tr>\n",
              "      <th>1</th>\n",
              "      <td>2</td>\n",
              "      <td>2014</td>\n",
              "      <td>NaN</td>\n",
              "      <td>Aldri Fajar Muhammad</td>\n",
              "      <td>PKM-GT</td>\n",
              "      <td>Institut Pertanian Bogor</td>\n",
              "      <td>AGROCOASTAL’S SYSTEM : SOLUSI JANGKA PANJANG M...</td>\n",
              "    </tr>\n",
              "    <tr>\n",
              "      <th>2</th>\n",
              "      <td>3</td>\n",
              "      <td>2014</td>\n",
              "      <td>NaN</td>\n",
              "      <td>Kania Ariyani Risyalaina</td>\n",
              "      <td>PKM-GT</td>\n",
              "      <td>Institut Teknologi Nasional Bandung</td>\n",
              "      <td>PEMBENAHAN PERMUKIMAN PADAT DAN KUMUH DENGAN M...</td>\n",
              "    </tr>\n",
              "    <tr>\n",
              "      <th>3</th>\n",
              "      <td>4</td>\n",
              "      <td>2014</td>\n",
              "      <td>NaN</td>\n",
              "      <td>Danang Prayoga Setiawan</td>\n",
              "      <td>PKM-GT</td>\n",
              "      <td>Institut Teknologi Sepuluh Nopember</td>\n",
              "      <td>Application of Jakarta Floating Farm and Fishe...</td>\n",
              "    </tr>\n",
              "    <tr>\n",
              "      <th>4</th>\n",
              "      <td>5</td>\n",
              "      <td>2014</td>\n",
              "      <td>NaN</td>\n",
              "      <td>Fahmi Adha Nurdin</td>\n",
              "      <td>PKM-GT</td>\n",
              "      <td>Institut Teknologi Sepuluh Nopember</td>\n",
              "      <td>“SURABAYA UNDERGROUND AQUA PROJECT” KONSEP PEN...</td>\n",
              "    </tr>\n",
              "  </tbody>\n",
              "</table>\n",
              "</div>"
            ],
            "text/plain": [
              "   No  Tahun  NIM           Ketua Pelaksana    SKIM  \\\n",
              "0   1   2014  NaN    Rio Sena Eka Nurshidiq  PKM-GT   \n",
              "1   2   2014  NaN      Aldri Fajar Muhammad  PKM-GT   \n",
              "2   3   2014  NaN  Kania Ariyani Risyalaina  PKM-GT   \n",
              "3   4   2014  NaN   Danang Prayoga Setiawan  PKM-GT   \n",
              "4   5   2014  NaN         Fahmi Adha Nurdin  PKM-GT   \n",
              "\n",
              "                      Perguruan Tinggi  \\\n",
              "0             Institut Pertanian Bogor   \n",
              "1             Institut Pertanian Bogor   \n",
              "2  Institut Teknologi Nasional Bandung   \n",
              "3  Institut Teknologi Sepuluh Nopember   \n",
              "4  Institut Teknologi Sepuluh Nopember   \n",
              "\n",
              "                                      Judul Kegiatan  \n",
              "0  Tata Perdagangan Perikanan Indonesia Melalui I...  \n",
              "1  AGROCOASTAL’S SYSTEM : SOLUSI JANGKA PANJANG M...  \n",
              "2  PEMBENAHAN PERMUKIMAN PADAT DAN KUMUH DENGAN M...  \n",
              "3  Application of Jakarta Floating Farm and Fishe...  \n",
              "4  “SURABAYA UNDERGROUND AQUA PROJECT” KONSEP PEN...  "
            ]
          },
          "metadata": {
            "tags": []
          },
          "execution_count": 131
        }
      ]
    },
    {
      "metadata": {
        "id": "7uRYQg7pF1xn",
        "colab_type": "code",
        "outputId": "cab28862-f826-49a6-ede4-1d0d2c4ed95e",
        "colab": {
          "base_uri": "https://localhost:8080/",
          "height": 35
        }
      },
      "cell_type": "code",
      "source": [
        "df.shape"
      ],
      "execution_count": 132,
      "outputs": [
        {
          "output_type": "execute_result",
          "data": {
            "text/plain": [
              "(2043, 7)"
            ]
          },
          "metadata": {
            "tags": []
          },
          "execution_count": 132
        }
      ]
    },
    {
      "metadata": {
        "id": "GZTIF_UWGpGW",
        "colab_type": "code",
        "outputId": "f7a1ebf4-c3fe-4e04-8c11-f9c45d0bd83d",
        "colab": {
          "base_uri": "https://localhost:8080/",
          "height": 206
        }
      },
      "cell_type": "code",
      "source": [
        "df = df[['Tahun', 'SKIM', 'Perguruan Tinggi', 'Judul Kegiatan']]\n",
        "df.head()"
      ],
      "execution_count": 133,
      "outputs": [
        {
          "output_type": "execute_result",
          "data": {
            "text/html": [
              "<div>\n",
              "<style scoped>\n",
              "    .dataframe tbody tr th:only-of-type {\n",
              "        vertical-align: middle;\n",
              "    }\n",
              "\n",
              "    .dataframe tbody tr th {\n",
              "        vertical-align: top;\n",
              "    }\n",
              "\n",
              "    .dataframe thead th {\n",
              "        text-align: right;\n",
              "    }\n",
              "</style>\n",
              "<table border=\"1\" class=\"dataframe\">\n",
              "  <thead>\n",
              "    <tr style=\"text-align: right;\">\n",
              "      <th></th>\n",
              "      <th>Tahun</th>\n",
              "      <th>SKIM</th>\n",
              "      <th>Perguruan Tinggi</th>\n",
              "      <th>Judul Kegiatan</th>\n",
              "    </tr>\n",
              "  </thead>\n",
              "  <tbody>\n",
              "    <tr>\n",
              "      <th>0</th>\n",
              "      <td>2014</td>\n",
              "      <td>PKM-GT</td>\n",
              "      <td>Institut Pertanian Bogor</td>\n",
              "      <td>Tata Perdagangan Perikanan Indonesia Melalui I...</td>\n",
              "    </tr>\n",
              "    <tr>\n",
              "      <th>1</th>\n",
              "      <td>2014</td>\n",
              "      <td>PKM-GT</td>\n",
              "      <td>Institut Pertanian Bogor</td>\n",
              "      <td>AGROCOASTAL’S SYSTEM : SOLUSI JANGKA PANJANG M...</td>\n",
              "    </tr>\n",
              "    <tr>\n",
              "      <th>2</th>\n",
              "      <td>2014</td>\n",
              "      <td>PKM-GT</td>\n",
              "      <td>Institut Teknologi Nasional Bandung</td>\n",
              "      <td>PEMBENAHAN PERMUKIMAN PADAT DAN KUMUH DENGAN M...</td>\n",
              "    </tr>\n",
              "    <tr>\n",
              "      <th>3</th>\n",
              "      <td>2014</td>\n",
              "      <td>PKM-GT</td>\n",
              "      <td>Institut Teknologi Sepuluh Nopember</td>\n",
              "      <td>Application of Jakarta Floating Farm and Fishe...</td>\n",
              "    </tr>\n",
              "    <tr>\n",
              "      <th>4</th>\n",
              "      <td>2014</td>\n",
              "      <td>PKM-GT</td>\n",
              "      <td>Institut Teknologi Sepuluh Nopember</td>\n",
              "      <td>“SURABAYA UNDERGROUND AQUA PROJECT” KONSEP PEN...</td>\n",
              "    </tr>\n",
              "  </tbody>\n",
              "</table>\n",
              "</div>"
            ],
            "text/plain": [
              "   Tahun    SKIM                     Perguruan Tinggi  \\\n",
              "0   2014  PKM-GT             Institut Pertanian Bogor   \n",
              "1   2014  PKM-GT             Institut Pertanian Bogor   \n",
              "2   2014  PKM-GT  Institut Teknologi Nasional Bandung   \n",
              "3   2014  PKM-GT  Institut Teknologi Sepuluh Nopember   \n",
              "4   2014  PKM-GT  Institut Teknologi Sepuluh Nopember   \n",
              "\n",
              "                                      Judul Kegiatan  \n",
              "0  Tata Perdagangan Perikanan Indonesia Melalui I...  \n",
              "1  AGROCOASTAL’S SYSTEM : SOLUSI JANGKA PANJANG M...  \n",
              "2  PEMBENAHAN PERMUKIMAN PADAT DAN KUMUH DENGAN M...  \n",
              "3  Application of Jakarta Floating Farm and Fishe...  \n",
              "4  “SURABAYA UNDERGROUND AQUA PROJECT” KONSEP PEN...  "
            ]
          },
          "metadata": {
            "tags": []
          },
          "execution_count": 133
        }
      ]
    },
    {
      "metadata": {
        "id": "uOvWlehgG8YY",
        "colab_type": "code",
        "outputId": "ccb7dbc7-b81c-4229-eb97-8b9dc69cd3cb",
        "colab": {
          "base_uri": "https://localhost:8080/",
          "height": 206
        }
      },
      "cell_type": "code",
      "source": [
        "#Melakukan pembersihan pada judul kegiatan baik dari penghilangan simbol dan melakukan dekapitalisasi hurud\n",
        "df['Judul Kegiatan'] = df['Judul Kegiatan'].str.replace('[%s\\“\\’\\”]' % re.escape(string.punctuation), '')\n",
        "df['Judul Kegiatan'] = df['Judul Kegiatan'].str.lower()\n",
        "\n",
        "# Melakukan Regex pada macam - macam lomba PKM\n",
        "df['SKIM'] = df['SKIM'].str.replace('[\\-\\s]', '').astype('category')\n",
        "df['SKIM'] = df['SKIM'].str.replace('[0-9]$', '')\n",
        "df.head()"
      ],
      "execution_count": 134,
      "outputs": [
        {
          "output_type": "execute_result",
          "data": {
            "text/html": [
              "<div>\n",
              "<style scoped>\n",
              "    .dataframe tbody tr th:only-of-type {\n",
              "        vertical-align: middle;\n",
              "    }\n",
              "\n",
              "    .dataframe tbody tr th {\n",
              "        vertical-align: top;\n",
              "    }\n",
              "\n",
              "    .dataframe thead th {\n",
              "        text-align: right;\n",
              "    }\n",
              "</style>\n",
              "<table border=\"1\" class=\"dataframe\">\n",
              "  <thead>\n",
              "    <tr style=\"text-align: right;\">\n",
              "      <th></th>\n",
              "      <th>Tahun</th>\n",
              "      <th>SKIM</th>\n",
              "      <th>Perguruan Tinggi</th>\n",
              "      <th>Judul Kegiatan</th>\n",
              "    </tr>\n",
              "  </thead>\n",
              "  <tbody>\n",
              "    <tr>\n",
              "      <th>0</th>\n",
              "      <td>2014</td>\n",
              "      <td>PKMGT</td>\n",
              "      <td>Institut Pertanian Bogor</td>\n",
              "      <td>tata perdagangan perikanan indonesia melalui i...</td>\n",
              "    </tr>\n",
              "    <tr>\n",
              "      <th>1</th>\n",
              "      <td>2014</td>\n",
              "      <td>PKMGT</td>\n",
              "      <td>Institut Pertanian Bogor</td>\n",
              "      <td>agrocoastals system  solusi jangka panjang men...</td>\n",
              "    </tr>\n",
              "    <tr>\n",
              "      <th>2</th>\n",
              "      <td>2014</td>\n",
              "      <td>PKMGT</td>\n",
              "      <td>Institut Teknologi Nasional Bandung</td>\n",
              "      <td>pembenahan permukiman padat dan kumuh dengan m...</td>\n",
              "    </tr>\n",
              "    <tr>\n",
              "      <th>3</th>\n",
              "      <td>2014</td>\n",
              "      <td>PKMGT</td>\n",
              "      <td>Institut Teknologi Sepuluh Nopember</td>\n",
              "      <td>application of jakarta floating farm and fishe...</td>\n",
              "    </tr>\n",
              "    <tr>\n",
              "      <th>4</th>\n",
              "      <td>2014</td>\n",
              "      <td>PKMGT</td>\n",
              "      <td>Institut Teknologi Sepuluh Nopember</td>\n",
              "      <td>surabaya underground aqua project konsep penge...</td>\n",
              "    </tr>\n",
              "  </tbody>\n",
              "</table>\n",
              "</div>"
            ],
            "text/plain": [
              "   Tahun   SKIM                     Perguruan Tinggi  \\\n",
              "0   2014  PKMGT             Institut Pertanian Bogor   \n",
              "1   2014  PKMGT             Institut Pertanian Bogor   \n",
              "2   2014  PKMGT  Institut Teknologi Nasional Bandung   \n",
              "3   2014  PKMGT  Institut Teknologi Sepuluh Nopember   \n",
              "4   2014  PKMGT  Institut Teknologi Sepuluh Nopember   \n",
              "\n",
              "                                      Judul Kegiatan  \n",
              "0  tata perdagangan perikanan indonesia melalui i...  \n",
              "1  agrocoastals system  solusi jangka panjang men...  \n",
              "2  pembenahan permukiman padat dan kumuh dengan m...  \n",
              "3  application of jakarta floating farm and fishe...  \n",
              "4  surabaya underground aqua project konsep penge...  "
            ]
          },
          "metadata": {
            "tags": []
          },
          "execution_count": 134
        }
      ]
    },
    {
      "metadata": {
        "id": "8NEGF8vMfKmA",
        "colab_type": "text"
      },
      "cell_type": "markdown",
      "source": [
        "## Exploratory Data Analysis\n"
      ]
    },
    {
      "metadata": {
        "id": "Ig-6ZNhqi_Qz",
        "colab_type": "code",
        "outputId": "463aa086-310d-4cad-cf2e-529515b67d74",
        "colab": {
          "base_uri": "https://localhost:8080/",
          "height": 206
        }
      },
      "cell_type": "code",
      "source": [
        "df_cabang = df\n",
        "df_cabang.head()"
      ],
      "execution_count": 137,
      "outputs": [
        {
          "output_type": "execute_result",
          "data": {
            "text/html": [
              "<div>\n",
              "<style scoped>\n",
              "    .dataframe tbody tr th:only-of-type {\n",
              "        vertical-align: middle;\n",
              "    }\n",
              "\n",
              "    .dataframe tbody tr th {\n",
              "        vertical-align: top;\n",
              "    }\n",
              "\n",
              "    .dataframe thead th {\n",
              "        text-align: right;\n",
              "    }\n",
              "</style>\n",
              "<table border=\"1\" class=\"dataframe\">\n",
              "  <thead>\n",
              "    <tr style=\"text-align: right;\">\n",
              "      <th></th>\n",
              "      <th>Tahun</th>\n",
              "      <th>SKIM</th>\n",
              "      <th>Perguruan Tinggi</th>\n",
              "      <th>Judul Kegiatan</th>\n",
              "    </tr>\n",
              "  </thead>\n",
              "  <tbody>\n",
              "    <tr>\n",
              "      <th>0</th>\n",
              "      <td>2014</td>\n",
              "      <td>PKMGT</td>\n",
              "      <td>Institut Pertanian Bogor</td>\n",
              "      <td>tata perdagangan perikanan indonesia melalui i...</td>\n",
              "    </tr>\n",
              "    <tr>\n",
              "      <th>1</th>\n",
              "      <td>2014</td>\n",
              "      <td>PKMGT</td>\n",
              "      <td>Institut Pertanian Bogor</td>\n",
              "      <td>agrocoastals system  solusi jangka panjang men...</td>\n",
              "    </tr>\n",
              "    <tr>\n",
              "      <th>2</th>\n",
              "      <td>2014</td>\n",
              "      <td>PKMGT</td>\n",
              "      <td>Institut Teknologi Nasional Bandung</td>\n",
              "      <td>pembenahan permukiman padat dan kumuh dengan m...</td>\n",
              "    </tr>\n",
              "    <tr>\n",
              "      <th>3</th>\n",
              "      <td>2014</td>\n",
              "      <td>PKMGT</td>\n",
              "      <td>Institut Teknologi Sepuluh Nopember</td>\n",
              "      <td>application of jakarta floating farm and fishe...</td>\n",
              "    </tr>\n",
              "    <tr>\n",
              "      <th>4</th>\n",
              "      <td>2014</td>\n",
              "      <td>PKMGT</td>\n",
              "      <td>Institut Teknologi Sepuluh Nopember</td>\n",
              "      <td>surabaya underground aqua project konsep penge...</td>\n",
              "    </tr>\n",
              "  </tbody>\n",
              "</table>\n",
              "</div>"
            ],
            "text/plain": [
              "   Tahun   SKIM                     Perguruan Tinggi  \\\n",
              "0   2014  PKMGT             Institut Pertanian Bogor   \n",
              "1   2014  PKMGT             Institut Pertanian Bogor   \n",
              "2   2014  PKMGT  Institut Teknologi Nasional Bandung   \n",
              "3   2014  PKMGT  Institut Teknologi Sepuluh Nopember   \n",
              "4   2014  PKMGT  Institut Teknologi Sepuluh Nopember   \n",
              "\n",
              "                                      Judul Kegiatan  \n",
              "0  tata perdagangan perikanan indonesia melalui i...  \n",
              "1  agrocoastals system  solusi jangka panjang men...  \n",
              "2  pembenahan permukiman padat dan kumuh dengan m...  \n",
              "3  application of jakarta floating farm and fishe...  \n",
              "4  surabaya underground aqua project konsep penge...  "
            ]
          },
          "metadata": {
            "tags": []
          },
          "execution_count": 137
        }
      ]
    },
    {
      "metadata": {
        "id": "_ME9NTcWUKV5",
        "colab_type": "code",
        "outputId": "9be52c2f-1a41-4e61-90cf-66e7acca4396",
        "colab": {
          "base_uri": "https://localhost:8080/",
          "height": 206
        }
      },
      "cell_type": "code",
      "source": [
        "onehot = pd.get_dummies(df_cabang['SKIM'])\n",
        "onehot.head()"
      ],
      "execution_count": 138,
      "outputs": [
        {
          "output_type": "execute_result",
          "data": {
            "text/html": [
              "<div>\n",
              "<style scoped>\n",
              "    .dataframe tbody tr th:only-of-type {\n",
              "        vertical-align: middle;\n",
              "    }\n",
              "\n",
              "    .dataframe tbody tr th {\n",
              "        vertical-align: top;\n",
              "    }\n",
              "\n",
              "    .dataframe thead th {\n",
              "        text-align: right;\n",
              "    }\n",
              "</style>\n",
              "<table border=\"1\" class=\"dataframe\">\n",
              "  <thead>\n",
              "    <tr style=\"text-align: right;\">\n",
              "      <th></th>\n",
              "      <th>PKMGT</th>\n",
              "      <th>PKMK</th>\n",
              "      <th>PKMKC</th>\n",
              "      <th>PKMM</th>\n",
              "      <th>PKMP</th>\n",
              "      <th>PKMPE</th>\n",
              "      <th>PKMPSH</th>\n",
              "      <th>PKMT</th>\n",
              "    </tr>\n",
              "  </thead>\n",
              "  <tbody>\n",
              "    <tr>\n",
              "      <th>0</th>\n",
              "      <td>1</td>\n",
              "      <td>0</td>\n",
              "      <td>0</td>\n",
              "      <td>0</td>\n",
              "      <td>0</td>\n",
              "      <td>0</td>\n",
              "      <td>0</td>\n",
              "      <td>0</td>\n",
              "    </tr>\n",
              "    <tr>\n",
              "      <th>1</th>\n",
              "      <td>1</td>\n",
              "      <td>0</td>\n",
              "      <td>0</td>\n",
              "      <td>0</td>\n",
              "      <td>0</td>\n",
              "      <td>0</td>\n",
              "      <td>0</td>\n",
              "      <td>0</td>\n",
              "    </tr>\n",
              "    <tr>\n",
              "      <th>2</th>\n",
              "      <td>1</td>\n",
              "      <td>0</td>\n",
              "      <td>0</td>\n",
              "      <td>0</td>\n",
              "      <td>0</td>\n",
              "      <td>0</td>\n",
              "      <td>0</td>\n",
              "      <td>0</td>\n",
              "    </tr>\n",
              "    <tr>\n",
              "      <th>3</th>\n",
              "      <td>1</td>\n",
              "      <td>0</td>\n",
              "      <td>0</td>\n",
              "      <td>0</td>\n",
              "      <td>0</td>\n",
              "      <td>0</td>\n",
              "      <td>0</td>\n",
              "      <td>0</td>\n",
              "    </tr>\n",
              "    <tr>\n",
              "      <th>4</th>\n",
              "      <td>1</td>\n",
              "      <td>0</td>\n",
              "      <td>0</td>\n",
              "      <td>0</td>\n",
              "      <td>0</td>\n",
              "      <td>0</td>\n",
              "      <td>0</td>\n",
              "      <td>0</td>\n",
              "    </tr>\n",
              "  </tbody>\n",
              "</table>\n",
              "</div>"
            ],
            "text/plain": [
              "   PKMGT  PKMK  PKMKC  PKMM  PKMP  PKMPE  PKMPSH  PKMT\n",
              "0      1     0      0     0     0      0       0     0\n",
              "1      1     0      0     0     0      0       0     0\n",
              "2      1     0      0     0     0      0       0     0\n",
              "3      1     0      0     0     0      0       0     0\n",
              "4      1     0      0     0     0      0       0     0"
            ]
          },
          "metadata": {
            "tags": []
          },
          "execution_count": 138
        }
      ]
    },
    {
      "metadata": {
        "id": "4Au7KuckRWn0",
        "colab_type": "code",
        "outputId": "4b9fca5c-73ed-47a6-ac0e-46b8426b91af",
        "colab": {
          "base_uri": "https://localhost:8080/",
          "height": 293
        }
      },
      "cell_type": "code",
      "source": [
        "df_cabang = df_cabang.drop('SKIM', axis = 1)\n",
        "df_cabang = df.join(onehot)\n",
        "df_cabang.head()"
      ],
      "execution_count": 139,
      "outputs": [
        {
          "output_type": "execute_result",
          "data": {
            "text/html": [
              "<div>\n",
              "<style scoped>\n",
              "    .dataframe tbody tr th:only-of-type {\n",
              "        vertical-align: middle;\n",
              "    }\n",
              "\n",
              "    .dataframe tbody tr th {\n",
              "        vertical-align: top;\n",
              "    }\n",
              "\n",
              "    .dataframe thead th {\n",
              "        text-align: right;\n",
              "    }\n",
              "</style>\n",
              "<table border=\"1\" class=\"dataframe\">\n",
              "  <thead>\n",
              "    <tr style=\"text-align: right;\">\n",
              "      <th></th>\n",
              "      <th>Tahun</th>\n",
              "      <th>SKIM</th>\n",
              "      <th>Perguruan Tinggi</th>\n",
              "      <th>Judul Kegiatan</th>\n",
              "      <th>PKMGT</th>\n",
              "      <th>PKMK</th>\n",
              "      <th>PKMKC</th>\n",
              "      <th>PKMM</th>\n",
              "      <th>PKMP</th>\n",
              "      <th>PKMPE</th>\n",
              "      <th>PKMPSH</th>\n",
              "      <th>PKMT</th>\n",
              "    </tr>\n",
              "  </thead>\n",
              "  <tbody>\n",
              "    <tr>\n",
              "      <th>0</th>\n",
              "      <td>2014</td>\n",
              "      <td>PKMGT</td>\n",
              "      <td>Institut Pertanian Bogor</td>\n",
              "      <td>tata perdagangan perikanan indonesia melalui i...</td>\n",
              "      <td>1</td>\n",
              "      <td>0</td>\n",
              "      <td>0</td>\n",
              "      <td>0</td>\n",
              "      <td>0</td>\n",
              "      <td>0</td>\n",
              "      <td>0</td>\n",
              "      <td>0</td>\n",
              "    </tr>\n",
              "    <tr>\n",
              "      <th>1</th>\n",
              "      <td>2014</td>\n",
              "      <td>PKMGT</td>\n",
              "      <td>Institut Pertanian Bogor</td>\n",
              "      <td>agrocoastals system  solusi jangka panjang men...</td>\n",
              "      <td>1</td>\n",
              "      <td>0</td>\n",
              "      <td>0</td>\n",
              "      <td>0</td>\n",
              "      <td>0</td>\n",
              "      <td>0</td>\n",
              "      <td>0</td>\n",
              "      <td>0</td>\n",
              "    </tr>\n",
              "    <tr>\n",
              "      <th>2</th>\n",
              "      <td>2014</td>\n",
              "      <td>PKMGT</td>\n",
              "      <td>Institut Teknologi Nasional Bandung</td>\n",
              "      <td>pembenahan permukiman padat dan kumuh dengan m...</td>\n",
              "      <td>1</td>\n",
              "      <td>0</td>\n",
              "      <td>0</td>\n",
              "      <td>0</td>\n",
              "      <td>0</td>\n",
              "      <td>0</td>\n",
              "      <td>0</td>\n",
              "      <td>0</td>\n",
              "    </tr>\n",
              "    <tr>\n",
              "      <th>3</th>\n",
              "      <td>2014</td>\n",
              "      <td>PKMGT</td>\n",
              "      <td>Institut Teknologi Sepuluh Nopember</td>\n",
              "      <td>application of jakarta floating farm and fishe...</td>\n",
              "      <td>1</td>\n",
              "      <td>0</td>\n",
              "      <td>0</td>\n",
              "      <td>0</td>\n",
              "      <td>0</td>\n",
              "      <td>0</td>\n",
              "      <td>0</td>\n",
              "      <td>0</td>\n",
              "    </tr>\n",
              "    <tr>\n",
              "      <th>4</th>\n",
              "      <td>2014</td>\n",
              "      <td>PKMGT</td>\n",
              "      <td>Institut Teknologi Sepuluh Nopember</td>\n",
              "      <td>surabaya underground aqua project konsep penge...</td>\n",
              "      <td>1</td>\n",
              "      <td>0</td>\n",
              "      <td>0</td>\n",
              "      <td>0</td>\n",
              "      <td>0</td>\n",
              "      <td>0</td>\n",
              "      <td>0</td>\n",
              "      <td>0</td>\n",
              "    </tr>\n",
              "  </tbody>\n",
              "</table>\n",
              "</div>"
            ],
            "text/plain": [
              "   Tahun   SKIM                     Perguruan Tinggi  \\\n",
              "0   2014  PKMGT             Institut Pertanian Bogor   \n",
              "1   2014  PKMGT             Institut Pertanian Bogor   \n",
              "2   2014  PKMGT  Institut Teknologi Nasional Bandung   \n",
              "3   2014  PKMGT  Institut Teknologi Sepuluh Nopember   \n",
              "4   2014  PKMGT  Institut Teknologi Sepuluh Nopember   \n",
              "\n",
              "                                      Judul Kegiatan  PKMGT  PKMK  PKMKC  \\\n",
              "0  tata perdagangan perikanan indonesia melalui i...      1     0      0   \n",
              "1  agrocoastals system  solusi jangka panjang men...      1     0      0   \n",
              "2  pembenahan permukiman padat dan kumuh dengan m...      1     0      0   \n",
              "3  application of jakarta floating farm and fishe...      1     0      0   \n",
              "4  surabaya underground aqua project konsep penge...      1     0      0   \n",
              "\n",
              "   PKMM  PKMP  PKMPE  PKMPSH  PKMT  \n",
              "0     0     0      0       0     0  \n",
              "1     0     0      0       0     0  \n",
              "2     0     0      0       0     0  \n",
              "3     0     0      0       0     0  \n",
              "4     0     0      0       0     0  "
            ]
          },
          "metadata": {
            "tags": []
          },
          "execution_count": 139
        }
      ]
    },
    {
      "metadata": {
        "id": "zwsxxyoef0Z_",
        "colab_type": "code",
        "outputId": "3938e156-5277-420d-a3da-6bf9e61d77c5",
        "colab": {
          "base_uri": "https://localhost:8080/",
          "height": 237
        }
      },
      "cell_type": "code",
      "source": [
        "df_ptn = df_cabang.groupby('Perguruan Tinggi').sum().sort_values('PKMM', ascending = False)\n",
        "df_ptn = df_ptn.iloc[:, 1:]\n",
        "df_ptn.head()"
      ],
      "execution_count": 141,
      "outputs": [
        {
          "output_type": "execute_result",
          "data": {
            "text/html": [
              "<div>\n",
              "<style scoped>\n",
              "    .dataframe tbody tr th:only-of-type {\n",
              "        vertical-align: middle;\n",
              "    }\n",
              "\n",
              "    .dataframe tbody tr th {\n",
              "        vertical-align: top;\n",
              "    }\n",
              "\n",
              "    .dataframe thead th {\n",
              "        text-align: right;\n",
              "    }\n",
              "</style>\n",
              "<table border=\"1\" class=\"dataframe\">\n",
              "  <thead>\n",
              "    <tr style=\"text-align: right;\">\n",
              "      <th></th>\n",
              "      <th>PKMGT</th>\n",
              "      <th>PKMK</th>\n",
              "      <th>PKMKC</th>\n",
              "      <th>PKMM</th>\n",
              "      <th>PKMP</th>\n",
              "      <th>PKMPE</th>\n",
              "      <th>PKMPSH</th>\n",
              "      <th>PKMT</th>\n",
              "    </tr>\n",
              "    <tr>\n",
              "      <th>Perguruan Tinggi</th>\n",
              "      <th></th>\n",
              "      <th></th>\n",
              "      <th></th>\n",
              "      <th></th>\n",
              "      <th></th>\n",
              "      <th></th>\n",
              "      <th></th>\n",
              "      <th></th>\n",
              "    </tr>\n",
              "  </thead>\n",
              "  <tbody>\n",
              "    <tr>\n",
              "      <th>Institut Pertanian Bogor</th>\n",
              "      <td>6</td>\n",
              "      <td>21</td>\n",
              "      <td>16</td>\n",
              "      <td>27</td>\n",
              "      <td>5</td>\n",
              "      <td>18</td>\n",
              "      <td>3</td>\n",
              "      <td>9</td>\n",
              "    </tr>\n",
              "    <tr>\n",
              "      <th>Universitas Brawijaya</th>\n",
              "      <td>3</td>\n",
              "      <td>30</td>\n",
              "      <td>31</td>\n",
              "      <td>21</td>\n",
              "      <td>21</td>\n",
              "      <td>30</td>\n",
              "      <td>7</td>\n",
              "      <td>24</td>\n",
              "    </tr>\n",
              "    <tr>\n",
              "      <th>Universitas Diponegoro</th>\n",
              "      <td>1</td>\n",
              "      <td>19</td>\n",
              "      <td>27</td>\n",
              "      <td>21</td>\n",
              "      <td>1</td>\n",
              "      <td>30</td>\n",
              "      <td>4</td>\n",
              "      <td>4</td>\n",
              "    </tr>\n",
              "    <tr>\n",
              "      <th>Universitas Gadjah Mada</th>\n",
              "      <td>12</td>\n",
              "      <td>26</td>\n",
              "      <td>37</td>\n",
              "      <td>19</td>\n",
              "      <td>16</td>\n",
              "      <td>31</td>\n",
              "      <td>10</td>\n",
              "      <td>10</td>\n",
              "    </tr>\n",
              "    <tr>\n",
              "      <th>Universitas Negeri Semarang</th>\n",
              "      <td>3</td>\n",
              "      <td>9</td>\n",
              "      <td>4</td>\n",
              "      <td>14</td>\n",
              "      <td>1</td>\n",
              "      <td>5</td>\n",
              "      <td>6</td>\n",
              "      <td>1</td>\n",
              "    </tr>\n",
              "  </tbody>\n",
              "</table>\n",
              "</div>"
            ],
            "text/plain": [
              "                             PKMGT  PKMK  PKMKC  PKMM  PKMP  PKMPE  PKMPSH  \\\n",
              "Perguruan Tinggi                                                             \n",
              "Institut Pertanian Bogor         6    21     16    27     5     18       3   \n",
              "Universitas Brawijaya            3    30     31    21    21     30       7   \n",
              "Universitas Diponegoro           1    19     27    21     1     30       4   \n",
              "Universitas Gadjah Mada         12    26     37    19    16     31      10   \n",
              "Universitas Negeri Semarang      3     9      4    14     1      5       6   \n",
              "\n",
              "                             PKMT  \n",
              "Perguruan Tinggi                   \n",
              "Institut Pertanian Bogor        9  \n",
              "Universitas Brawijaya          24  \n",
              "Universitas Diponegoro          4  \n",
              "Universitas Gadjah Mada        10  \n",
              "Universitas Negeri Semarang     1  "
            ]
          },
          "metadata": {
            "tags": []
          },
          "execution_count": 141
        }
      ]
    },
    {
      "metadata": {
        "id": "1o4yBCpYhCO3",
        "colab_type": "code",
        "outputId": "cdc63245-dd24-4d9b-a6ae-172ab57c36f7",
        "colab": {
          "base_uri": "https://localhost:8080/",
          "height": 539
        }
      },
      "cell_type": "code",
      "source": [
        "df_ptn = df_cabang.groupby('Perguruan Tinggi').sum().sort_values('PKMKC', ascending = False)\n",
        "df_ptn.iloc[0:10, 1:].plot(kind = 'bar')\n",
        "plt.title('Gambaran umum dari yang mengikuti PKM dari 2014 - 2018 (sort by PKMKC)')\n",
        "plt.show()"
      ],
      "execution_count": 142,
      "outputs": [
        {
          "output_type": "display_data",
          "data": {
            "image/png": "[encoded data removed]",
            "text/plain": [
              "<Figure size 576x396 with 1 Axes>"
            ]
          },
          "metadata": {
            "tags": []
          }
        }
      ]
    },
    {
      "metadata": {
        "id": "KVbA84aOaxlG",
        "colab_type": "code",
        "outputId": "eb45115b-68b3-486e-bfee-db8c1ea5dd66",
        "colab": {
          "base_uri": "https://localhost:8080/",
          "height": 530
        }
      },
      "cell_type": "code",
      "source": [
        "df_ptn = df_cabang.groupby('Perguruan Tinggi').sum().sort_values('PKMM', ascending = False)\n",
        "df_ptn.iloc[0:10, 4].plot(kind = 'bar')\n",
        "plt.title('Universitas yang ikut PKM-M terbanyak dari tahun 2014 - 2018')\n",
        "plt.show()"
      ],
      "execution_count": 0,
      "outputs": [
        {
          "output_type": "display_data",
          "data": {
            "image/png": "[encoded data removed]",
            "text/plain": [
              "<Figure size 576x396 with 1 Axes>"
            ]
          },
          "metadata": {
            "tags": []
          }
        }
      ]
    },
    {
      "metadata": {
        "id": "RJRnSnL9ZUXi",
        "colab_type": "code",
        "outputId": "7e339921-7e7c-4575-9134-133dc7ec69e0",
        "colab": {
          "base_uri": "https://localhost:8080/",
          "height": 539
        }
      },
      "cell_type": "code",
      "source": [
        "df_ptn = df_cabang.groupby('Perguruan Tinggi').sum().sort_values('PKMKC', ascending = False)\n",
        "df_ptn.iloc[0:10, 3].plot(kind = 'bar')\n",
        "plt.title('Universitas yang ikut PKM-KC terbanyak dari tahun 2014 - 2018')\n",
        "plt.show()"
      ],
      "execution_count": 0,
      "outputs": [
        {
          "output_type": "display_data",
          "data": {
            "image/png": "[encoded data removed]",
            "text/plain": [
              "<Figure size 576x396 with 1 Axes>"
            ]
          },
          "metadata": {
            "tags": []
          }
        }
      ]
    }
  ]
}